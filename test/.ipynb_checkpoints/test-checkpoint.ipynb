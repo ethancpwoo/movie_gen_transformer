{
 "cells": [
  {
   "cell_type": "code",
   "execution_count": 18,
   "id": "598b4dc1-0502-4ba6-afd1-4ae1608fc631",
   "metadata": {},
   "outputs": [
    {
     "name": "stdout",
     "output_type": "stream",
     "text": [
      "Title: Kan\n"
     ]
    }
   ],
   "source": [
    "import torch\n",
    "import torch.nn as nn\n",
    "import re\n",
    "\n",
    "from torch.nn import functional as F\n",
    "\n",
    "with open('../src/summaries.txt', 'r', encoding='utf8') as f:\n",
    "    text = f.read()\n",
    "\n",
    "# ensure that there are only Latin and special character wording. CJK characters are removed\n",
    "pattern = re.compile(r'[^\\x00-\\x7F0-9\\[\\]]+')\n",
    "text = pattern.sub('', text)\n",
    "\n",
    "# find all unique characters in the text\n",
    "chars = sorted(list(set(text)))\n",
    "vocab_size = len(chars)\n",
    "\n",
    "enc_map = {}\n",
    "dec_map = {}\n",
    "\n",
    "for i, character in enumerate(chars):\n",
    "    enc_map[character] = i\n",
    "    dec_map[i] = character\n",
    "\n",
    "def encode(s : str, enc_map : dict) -> list:\n",
    "    ls = []\n",
    "    for char in s:\n",
    "        ls.append(enc_map[char])\n",
    "    return ls\n",
    "\n",
    "def decode(ls : list, dec_map : dict) -> str:\n",
    "    char_list = []\n",
    "    ls = ls.tolist()\n",
    "    for i in ls: \n",
    "        char_list.append(dec_map[i]) \n",
    "    s = ''.join(char_list)\n",
    "    return s\n",
    "\n",
    "data = torch.tensor(encode(text, enc_map), dtype=torch.long)\n",
    "\n",
    "n = int(0.9 * len(data))\n",
    "train_data = data[:n]\n",
    "test_data = data[n:]\n",
    "\n",
    "print(decode(train_data[:10], dec_map))"
   ]
  },
  {
   "cell_type": "code",
   "execution_count": null,
   "id": "db370ed5-12d8-46ee-9e5a-b8e6ca43ea0f",
   "metadata": {},
   "outputs": [],
   "source": []
  }
 ],
 "metadata": {
  "kernelspec": {
   "display_name": "Python 3 (ipykernel)",
   "language": "python",
   "name": "python3"
  },
  "language_info": {
   "codemirror_mode": {
    "name": "ipython",
    "version": 3
   },
   "file_extension": ".py",
   "mimetype": "text/x-python",
   "name": "python",
   "nbconvert_exporter": "python",
   "pygments_lexer": "ipython3",
   "version": "3.10.11"
  }
 },
 "nbformat": 4,
 "nbformat_minor": 5
}
