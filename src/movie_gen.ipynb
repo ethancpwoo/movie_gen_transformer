{
 "cells": [
  {
   "cell_type": "code",
   "execution_count": 1,
   "id": "44f9d0d1-1ab6-4e91-8060-fbdacbb17c0e",
   "metadata": {},
   "outputs": [],
   "source": [
    "# Movie Summary Generator from transformer architecture. Using Wikipedia movie summaries from Kaggle.\n",
    "\n",
    "# Following guidelines from ShakespeareGPT by Andrej Karpathy\n",
    "\n",
    "# First read in the entire dataset\n",
    "import re\n",
    "\n",
    "\n",
    "with open('summaries.txt', 'r', encoding='utf8') as f:\n",
    "    text = f.read()\n",
    "\n",
    "#ensure that there are only Latin and special character wording. CJK characters are removed.\n",
    "pattern = re.compile(r'[^\\x00-\\x7F0-9\\[\\]]+')\n",
    "text = pattern.sub('', text)"
   ]
  },
  {
   "cell_type": "code",
   "execution_count": 2,
   "id": "0163f53b-5b8d-4817-844e-3c0350947c7f",
   "metadata": {},
   "outputs": [
    {
     "name": "stdout",
     "output_type": "stream",
     "text": [
      "\n",
      " !\"#$%&'()*+,-./0123456789:;<=>?@ABCDEFGHIJKLMNOPQRSTUVWXYZ[\\]_`abcdefghijklmnopqrstuvwxyz{|}~\n",
      "95\n"
     ]
    }
   ],
   "source": [
    "# find all unique characters in the text\n",
    "chars = sorted(list(set(text)))\n",
    "vocab_size = len(chars)\n",
    "print(''.join(chars))\n",
    "print(vocab_size)"
   ]
  },
  {
   "cell_type": "code",
   "execution_count": 9,
   "id": "b1002d6d-f38b-491f-8d5f-353f6636f0f8",
   "metadata": {},
   "outputs": [
    {
     "name": "stdout",
     "output_type": "stream",
     "text": [
      "[41, 69, 76, 76, 79, 1, 56, 79, 82, 76, 68, 2]\n",
      "Hello World!\n"
     ]
    }
   ],
   "source": [
    "# encode characters\n",
    "\n",
    "enc_map = {}\n",
    "dec_map = {}\n",
    "\n",
    "for i, character in enumerate(chars):\n",
    "    enc_map[character] = i\n",
    "    dec_map[i] = character\n",
    "\n",
    "def encode(s : str) -> list:\n",
    "    ls = []\n",
    "    for char in s:\n",
    "        ls.append(enc_map[char])\n",
    "    return ls\n",
    "\n",
    "def decode(ls : list) -> str:\n",
    "    char_list = []\n",
    "    for i in ls: \n",
    "        char_list.append(dec_map[i]) \n",
    "    s = ''.join(char_list)\n",
    "    return s\n",
    "\n",
    "# general tokenization over instead of using OpenAI's tiktoken tokenization.\n",
    "\n",
    "print(encode('Hello World!'))\n",
    "print(decode(encode('Hello World!')))"
   ]
  },
  {
   "cell_type": "code",
   "execution_count": 10,
   "id": "fde7cc07-8ea7-4205-9eba-ff72508b80cf",
   "metadata": {},
   "outputs": [],
   "source": [
    "# Now using PyToruch store it into a PyTorch Tensor. "
   ]
  }
 ],
 "metadata": {
  "kernelspec": {
   "display_name": "Python 3 (ipykernel)",
   "language": "python",
   "name": "python3"
  },
  "language_info": {
   "codemirror_mode": {
    "name": "ipython",
    "version": 3
   },
   "file_extension": ".py",
   "mimetype": "text/x-python",
   "name": "python",
   "nbconvert_exporter": "python",
   "pygments_lexer": "ipython3",
   "version": "3.10.11"
  }
 },
 "nbformat": 4,
 "nbformat_minor": 5
}
